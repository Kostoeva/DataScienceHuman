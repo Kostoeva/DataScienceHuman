{
 "cells": [
  {
   "cell_type": "markdown",
   "metadata": {},
   "source": [
    "# Life of a Data Scientist: Human Activity"
   ]
  },
  {
   "cell_type": "markdown",
   "metadata": {},
   "source": [
    "Group:"
   ]
  },
  {
   "cell_type": "markdown",
   "metadata": {},
   "source": [
    "Revekka Kostoeva, "
   ]
  },
  {
   "cell_type": "markdown",
   "metadata": {},
   "source": [
    "Data Set: Human Actiity Recognition With Smartphones\n",
    "The Human Activity Recognition database was built from the recordings of 30 study participants performing activities of daily living (ADL) while carrying a waist-mounted smartphone with-mounted smartphone with embedded inertial sensors."
   ]
  },
  {
   "cell_type": "markdown",
   "metadata": {},
   "source": [
    "https://www.kaggle.com/uciml/human-activity-recognition-with-smartphones"
   ]
  },
  {
   "cell_type": "code",
   "execution_count": 1,
   "metadata": {
    "collapsed": false
   },
   "outputs": [
    {
     "name": "stderr",
     "output_type": "stream",
     "text": [
      "C:\\Users\\kostoeva\\Anaconda3\\lib\\site-packages\\pandas\\computation\\__init__.py:19: UserWarning: The installed version of numexpr 2.4.4 is not supported in pandas and will be not be used\n",
      "\n",
      "  UserWarning)\n",
      "Using TensorFlow backend.\n"
     ]
    }
   ],
   "source": [
    "#IMPORTS\n",
    "import pandas as pd\n",
    "import numpy as np\n",
    "import sklearn as sk\n",
    "import keras\n",
    "\n",
    "#from sklearn.neighbors import NearestNeightbors"
   ]
  },
  {
   "cell_type": "code",
   "execution_count": 2,
   "metadata": {
    "collapsed": false
   },
   "outputs": [],
   "source": [
    "from keras.layers import Dense,Activation,Convolution2D as Conv2D,Flatten,Reshape,Dropout\n",
    "from keras.models import Sequential\n",
    "from keras.layers.recurrent import LSTM\n",
    "from sklearn.preprocessing import LabelEncoder\n"
   ]
  },
  {
   "cell_type": "code",
   "execution_count": 3,
   "metadata": {
    "collapsed": false
   },
   "outputs": [],
   "source": [
    "#Reading Data\n",
    "train = pd.read_csv(\"train.csv\")\n",
    "test = pd.read_csv(\"test.csv\")"
   ]
  },
  {
   "cell_type": "code",
   "execution_count": 4,
   "metadata": {
    "collapsed": false
   },
   "outputs": [],
   "source": [
    "#Splitting up features and labels\n",
    "labels_train = train.ix[:, 562].as_matrix()\n",
    "features_train = train.ix[:,:561].as_matrix()\n",
    "labels_test = test.ix[:, 562].as_matrix()\n",
    "features_test = test.ix[:,:561].as_matrix()\n"
   ]
  },
  {
   "cell_type": "code",
   "execution_count": 5,
   "metadata": {
    "collapsed": true
   },
   "outputs": [],
   "source": [
    "def oneHot(Y):\n",
    "    encoder = LabelEncoder()\n",
    "    encoder.fit(Y)\n",
    "    encoded_Y = encoder.transform(Y)\n",
    "    return keras.utils.to_categorical(encoded_Y, num_classes=6)"
   ]
  },
  {
   "cell_type": "code",
   "execution_count": 6,
   "metadata": {
    "collapsed": false
   },
   "outputs": [],
   "source": [
    "#Encode labels\n",
    "labels_train = oneHot(labels_train)\n",
    "labels_test = oneHot(labels_test)"
   ]
  },
  {
   "cell_type": "code",
   "execution_count": 7,
   "metadata": {
    "collapsed": false
   },
   "outputs": [
    {
     "data": {
      "text/plain": [
       "\"\\nimport sklearn.neural_network as nn \\n\\nmlpSGD  =  nn.MLPClassifier(hidden_layer_sizes=(128,)                          , max_iter=1000 , alpha=1e-4                          , solver='sgd' , verbose=10                           , tol=1e-19 , random_state=1                          , learning_rate_init=.001) \\nmlpADAM =  nn.MLPClassifier(hidden_layer_sizes=(90,)                          , max_iter=1000 , alpha=1e-4                          , solver='adam' , verbose=10                          , tol=1e-19 , random_state=1                          , learning_rate_init=.001) \\n\\nnnModelSGD  = mlpSGD .fit(features_train , labels_train)\\n\""
      ]
     },
     "execution_count": 7,
     "metadata": {},
     "output_type": "execute_result"
    }
   ],
   "source": [
    "# Sklearn built in MLP Classifier\n",
    "'''\n",
    "import sklearn.neural_network as nn \n",
    "\n",
    "mlpSGD  =  nn.MLPClassifier(hidden_layer_sizes=(128,)  \\\n",
    "                        , max_iter=1000 , alpha=1e-4  \\\n",
    "                        , solver='sgd' , verbose=10   \\\n",
    "                        , tol=1e-19 , random_state=1  \\\n",
    "                        , learning_rate_init=.001) \n",
    "mlpADAM =  nn.MLPClassifier(hidden_layer_sizes=(90,)  \\\n",
    "                        , max_iter=1000 , alpha=1e-4  \\\n",
    "                        , solver='adam' , verbose=10  \\\n",
    "                        , tol=1e-19 , random_state=1  \\\n",
    "                        , learning_rate_init=.001) \n",
    "\n",
    "nnModelSGD  = mlpSGD .fit(features_train , labels_train)\n",
    "'''\n"
   ]
  },
  {
   "cell_type": "code",
   "execution_count": 322,
   "metadata": {
    "collapsed": false
   },
   "outputs": [],
   "source": [
    "#Model 1\n",
    "model =  Sequential()"
   ]
  },
  {
   "cell_type": "code",
   "execution_count": 323,
   "metadata": {
    "collapsed": false
   },
   "outputs": [],
   "source": [
    "#Add layers\n",
    "model.add(Dense(187,input_shape=(561,)))\n",
    "model.add(Activation('relu'))\n",
    "model.add(Dropout(0.4))\n",
    "model.add(Dense(6))\n",
    "model.add(Activation('softmax'))"
   ]
  },
  {
   "cell_type": "code",
   "execution_count": 324,
   "metadata": {
    "collapsed": false
   },
   "outputs": [
    {
     "name": "stdout",
     "output_type": "stream",
     "text": [
      "_________________________________________________________________\n",
      "Layer (type)                 Output Shape              Param #   \n",
      "=================================================================\n",
      "dense_48 (Dense)             (None, 187)               105094    \n",
      "_________________________________________________________________\n",
      "activation_48 (Activation)   (None, 187)               0         \n",
      "_________________________________________________________________\n",
      "dropout_13 (Dropout)         (None, 187)               0         \n",
      "_________________________________________________________________\n",
      "dense_49 (Dense)             (None, 6)                 1128      \n",
      "_________________________________________________________________\n",
      "activation_49 (Activation)   (None, 6)                 0         \n",
      "=================================================================\n",
      "Total params: 106,222\n",
      "Trainable params: 106,222\n",
      "Non-trainable params: 0\n",
      "_________________________________________________________________\n"
     ]
    }
   ],
   "source": [
    "model.summary()"
   ]
  },
  {
   "cell_type": "code",
   "execution_count": 325,
   "metadata": {
    "collapsed": false
   },
   "outputs": [],
   "source": [
    "#Compile model\n",
    "model.compile(optimizer='sgd', loss='categorical_crossentropy', metrics=['accuracy'])"
   ]
  },
  {
   "cell_type": "code",
   "execution_count": 328,
   "metadata": {
    "collapsed": false
   },
   "outputs": [
    {
     "name": "stdout",
     "output_type": "stream",
     "text": [
      "Epoch 1/20\n",
      "7352/7352 [==============================] - 0s - loss: 0.1315 - acc: 0.9555     \n",
      "Epoch 2/20\n",
      "7352/7352 [==============================] - 0s - loss: 0.1303 - acc: 0.9523     \n",
      "Epoch 3/20\n",
      "7352/7352 [==============================] - 0s - loss: 0.1250 - acc: 0.9569     \n",
      "Epoch 4/20\n",
      "7352/7352 [==============================] - 0s - loss: 0.1215 - acc: 0.9574     \n",
      "Epoch 5/20\n",
      "7352/7352 [==============================] - 0s - loss: 0.1191 - acc: 0.9587     \n",
      "Epoch 6/20\n",
      "7352/7352 [==============================] - 0s - loss: 0.1199 - acc: 0.9563     \n",
      "Epoch 7/20\n",
      "7352/7352 [==============================] - 0s - loss: 0.1188 - acc: 0.9596     \n",
      "Epoch 8/20\n",
      "7352/7352 [==============================] - 0s - loss: 0.1110 - acc: 0.9596     \n",
      "Epoch 9/20\n",
      "7352/7352 [==============================] - 0s - loss: 0.1090 - acc: 0.9640     \n",
      "Epoch 10/20\n",
      "7352/7352 [==============================] - 0s - loss: 0.1066 - acc: 0.9618     \n",
      "Epoch 11/20\n",
      "7352/7352 [==============================] - 0s - loss: 0.1031 - acc: 0.9655     \n",
      "Epoch 12/20\n",
      "7352/7352 [==============================] - 0s - loss: 0.1016 - acc: 0.9644     \n",
      "Epoch 13/20\n",
      "7352/7352 [==============================] - 0s - loss: 0.0991 - acc: 0.9648     \n",
      "Epoch 14/20\n",
      "7352/7352 [==============================] - 0s - loss: 0.0982 - acc: 0.9664     \n",
      "Epoch 15/20\n",
      "7352/7352 [==============================] - 0s - loss: 0.0966 - acc: 0.9674     \n",
      "Epoch 16/20\n",
      "7352/7352 [==============================] - 0s - loss: 0.0955 - acc: 0.9674     \n",
      "Epoch 17/20\n",
      "7352/7352 [==============================] - 0s - loss: 0.0940 - acc: 0.9669     \n",
      "Epoch 18/20\n",
      "7352/7352 [==============================] - 0s - loss: 0.0903 - acc: 0.9695     \n",
      "Epoch 19/20\n",
      "7352/7352 [==============================] - 0s - loss: 0.0899 - acc: 0.9695     \n",
      "Epoch 20/20\n",
      "7352/7352 [==============================] - 0s - loss: 0.0874 - acc: 0.9698     \n"
     ]
    },
    {
     "data": {
      "text/plain": [
       "<keras.callbacks.History at 0x7fe4138c5ed0>"
      ]
     },
     "execution_count": 328,
     "metadata": {},
     "output_type": "execute_result"
    }
   ],
   "source": [
    "#Train model\n",
    "model.fit(features_train,labels_train,epochs=40,batch_size=32)"
   ]
  },
  {
   "cell_type": "code",
   "execution_count": 329,
   "metadata": {
    "collapsed": true
   },
   "outputs": [],
   "source": [
    "#Model trained 280 epochs;"
   ]
  },
  {
   "cell_type": "code",
   "execution_count": 330,
   "metadata": {
    "collapsed": false
   },
   "outputs": [
    {
     "name": "stdout",
     "output_type": "stream",
     "text": [
      "2752/2947 [===========================>..] - ETA: 0s"
     ]
    },
    {
     "data": {
      "text/plain": [
       "[0.12459659962534075, 0.95656599934156927]"
      ]
     },
     "execution_count": 330,
     "metadata": {},
     "output_type": "execute_result"
    }
   ],
   "source": [
    "#Evaluate\n",
    "model.evaluate(features_test,labels_test)"
   ]
  },
  {
   "cell_type": "code",
   "execution_count": 355,
   "metadata": {
    "collapsed": true
   },
   "outputs": [],
   "source": [
    "#Model 2\n",
    "model2 =  Sequential()"
   ]
  },
  {
   "cell_type": "code",
   "execution_count": 356,
   "metadata": {
    "collapsed": false
   },
   "outputs": [
    {
     "name": "stdout",
     "output_type": "stream",
     "text": [
      "_________________________________________________________________\n",
      "Layer (type)                 Output Shape              Param #   \n",
      "=================================================================\n",
      "dense_52 (Dense)             (None, 90)                50580     \n",
      "_________________________________________________________________\n",
      "dropout_14 (Dropout)         (None, 90)                0         \n",
      "_________________________________________________________________\n",
      "activation_52 (Activation)   (None, 90)                0         \n",
      "_________________________________________________________________\n",
      "dense_53 (Dense)             (None, 6)                 546       \n",
      "_________________________________________________________________\n",
      "activation_53 (Activation)   (None, 6)                 0         \n",
      "=================================================================\n",
      "Total params: 51,126\n",
      "Trainable params: 51,126\n",
      "Non-trainable params: 0\n",
      "_________________________________________________________________\n"
     ]
    }
   ],
   "source": [
    "#Add layers\n",
    "model2.add(Dense(90,input_shape=(561,)))\n",
    "model2.add(Dropout(0.3))\n",
    "model2.add(Activation('relu'))\n",
    "\n",
    "model2.add(Dense(6))\n",
    "model2.add(Activation('softmax'))\n",
    "\n",
    "model2.summary()"
   ]
  },
  {
   "cell_type": "code",
   "execution_count": 357,
   "metadata": {
    "collapsed": true
   },
   "outputs": [],
   "source": [
    "#Compile model\n",
    "model2.compile(optimizer='SGD', loss='categorical_crossentropy', metrics=['accuracy'])"
   ]
  },
  {
   "cell_type": "code",
   "execution_count": 358,
   "metadata": {
    "collapsed": true
   },
   "outputs": [],
   "source": [
    "from sklearn.utils import shuffle"
   ]
  },
  {
   "cell_type": "code",
   "execution_count": 375,
   "metadata": {
    "collapsed": false,
    "scrolled": true
   },
   "outputs": [
    {
     "name": "stdout",
     "output_type": "stream",
     "text": [
      "Epoch 1/5\n",
      "7352/7352 [==============================] - 0s - loss: 0.0535 - acc: 0.9815     \n",
      "Epoch 2/5\n",
      "7352/7352 [==============================] - 0s - loss: 0.0534 - acc: 0.9808     \n",
      "Epoch 3/5\n",
      "7352/7352 [==============================] - 0s - loss: 0.0570 - acc: 0.9810     \n",
      "Epoch 4/5\n",
      "7352/7352 [==============================] - 0s - loss: 0.0528 - acc: 0.9820     \n",
      "Epoch 5/5\n",
      "7352/7352 [==============================] - 0s - loss: 0.0533 - acc: 0.9820     \n"
     ]
    }
   ],
   "source": [
    "#Train model, reshuffle data every couple of epochs\n",
    "for i in range(1):\n",
    "    train = shuffle(train)\n",
    "    labels_train = train.ix[:, 562].as_matrix()\n",
    "    features_train = train.ix[:,:561].as_matrix()\n",
    "    labels_train = oneHot(labels_train)\n",
    "    model2.fit(features_train,labels_train,epochs=5,batch_size=32)"
   ]
  },
  {
   "cell_type": "code",
   "execution_count": 376,
   "metadata": {
    "collapsed": false
   },
   "outputs": [
    {
     "name": "stdout",
     "output_type": "stream",
     "text": [
      "1600/2947 [===============>..............] - ETA: 0s"
     ]
    },
    {
     "data": {
      "text/plain": [
       "[0.11355041095043315, 0.96029860875466577]"
      ]
     },
     "execution_count": 376,
     "metadata": {},
     "output_type": "execute_result"
    }
   ],
   "source": [
    "model2.evaluate(features_test,labels_test)"
   ]
  },
  {
   "cell_type": "code",
   "execution_count": null,
   "metadata": {
    "collapsed": true
   },
   "outputs": [],
   "source": []
  }
 ],
 "metadata": {
  "anaconda-cloud": {},
  "kernelspec": {
   "display_name": "Python 3",
   "language": "python",
   "name": "python3"
  },
  "language_info": {
   "codemirror_mode": {
    "name": "ipython",
    "version": 3
   },
   "file_extension": ".py",
   "mimetype": "text/x-python",
   "name": "python",
   "nbconvert_exporter": "python",
   "pygments_lexer": "ipython3",
   "version": "3.5.2"
  }
 },
 "nbformat": 4,
 "nbformat_minor": 0
}
