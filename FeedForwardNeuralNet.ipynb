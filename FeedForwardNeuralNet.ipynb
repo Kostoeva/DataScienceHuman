{
 "cells": [
  {
   "cell_type": "markdown",
   "metadata": {},
   "source": [
    "# Life of a Data Scientist: Human Activity"
   ]
  },
  {
   "cell_type": "markdown",
   "metadata": {},
   "source": [
    "Data Set: Human Actiity Recognition With Smartphones\n",
    "The Human Activity Recognition database was built from the recordings of 30 study participants performing activities of daily living (ADL) while carrying a waist-mounted smartphone with-mounted smartphone with embedded inertial sensors."
   ]
  },
  {
   "cell_type": "code",
   "execution_count": 1,
   "metadata": {
    "collapsed": false
   },
   "outputs": [
    {
     "name": "stderr",
     "output_type": "stream",
     "text": [
      "Using TensorFlow backend.\n"
     ]
    }
   ],
   "source": [
    "#IMPORTS\n",
    "import pandas as pd\n",
    "import numpy as np\n",
    "import keras\n",
    "from keras.models import Sequential\n",
    "from keras.layers import Dense, Activation"
   ]
  },
  {
   "cell_type": "code",
   "execution_count": 2,
   "metadata": {
    "collapsed": true
   },
   "outputs": [],
   "source": [
    "#Reading Data\n",
    "train = pd.read_csv(\"train.csv\")\n",
    "test = pd.read_csv(\"test.csv\")"
   ]
  },
  {
   "cell_type": "code",
   "execution_count": 3,
   "metadata": {
    "collapsed": true
   },
   "outputs": [],
   "source": [
    "#Splitting up features and labels\n",
    "labels_train = train.ix[:, 562]\n",
    "features_train = train.ix[:,:561]\n",
    "labels_test = test.ix[:, 562]\n",
    "features_test = test.ix[:,:561]"
   ]
  },
  {
   "cell_type": "code",
   "execution_count": 4,
   "metadata": {
    "collapsed": true
   },
   "outputs": [],
   "source": [
    "# Makes categorical labels into numbers 1-6\n",
    "def encode(df):\n",
    "    dummies = pd.get_dummies(df, drop_first=False)\n",
    "    d = np.array([])\n",
    "    for i in range(len(dummies)):\n",
    "        d = np.append(d, dummies.values[i].argmax())\n",
    "    return d\n"
   ]
  },
  {
   "cell_type": "code",
   "execution_count": 5,
   "metadata": {
    "collapsed": false
   },
   "outputs": [],
   "source": [
    "#Encode labels\n",
    "labels_train = encode(labels_train)\n",
    "labels_test = encode(labels_test)\n",
    "\n",
    "labels_train = pd.get_dummies(labels_train)\n",
    "labels_test = pd.get_dummies(labels_test)\n",
    "\n",
    "randomize = np.arange(labels_train.shape[0])\n",
    "np.random.shuffle(randomize)\n",
    "labels_train = labels_train.iloc[randomize]\n",
    "features_train = features_train.iloc[randomize]\n",
    "\n",
    "randomize = np.arange(labels_test.shape[0])\n",
    "np.random.shuffle(randomize)\n",
    "labels_test = labels_test.iloc[randomize]\n",
    "features_test = features_test.iloc[randomize]"
   ]
  },
  {
   "cell_type": "code",
   "execution_count": 6,
   "metadata": {
    "collapsed": false
   },
   "outputs": [],
   "source": [
    "labels_train = np.asmatrix(labels_train)\n",
    "features_train = np.asmatrix(features_train)\n",
    "\n",
    "labels_test = np.asmatrix(labels_test)\n",
    "features_test = np.asmatrix(features_test)\n"
   ]
  },
  {
   "cell_type": "code",
   "execution_count": 7,
   "metadata": {
    "collapsed": false,
    "scrolled": true
   },
   "outputs": [
    {
     "name": "stdout",
     "output_type": "stream",
     "text": [
      "(7352, 6)\n",
      "(7352, 561)\n"
     ]
    }
   ],
   "source": [
    "print(labels_train.shape)\n",
    "print(features_train.shape)"
   ]
  },
  {
   "cell_type": "code",
   "execution_count": 8,
   "metadata": {
    "collapsed": false
   },
   "outputs": [
    {
     "data": {
      "text/plain": [
       "matrix([[ 0.,  0.,  0.,  0.,  1.,  0.],\n",
       "        [ 0.,  1.,  0.,  0.,  0.,  0.],\n",
       "        [ 0.,  0.,  0.,  0.,  1.,  0.],\n",
       "        ..., \n",
       "        [ 0.,  0.,  1.,  0.,  0.,  0.],\n",
       "        [ 0.,  0.,  1.,  0.,  0.,  0.],\n",
       "        [ 0.,  0.,  0.,  1.,  0.,  0.]])"
      ]
     },
     "execution_count": 8,
     "metadata": {},
     "output_type": "execute_result"
    }
   ],
   "source": [
    "labels_train"
   ]
  },
  {
   "cell_type": "code",
   "execution_count": 86,
   "metadata": {
    "collapsed": false
   },
   "outputs": [
    {
     "name": "stdout",
     "output_type": "stream",
     "text": [
      "_________________________________________________________________\n",
      "Layer (type)                 Output Shape              Param #   \n",
      "=================================================================\n",
      "dense_177 (Dense)            (None, 64)                35968     \n",
      "_________________________________________________________________\n",
      "activation_177 (Activation)  (None, 64)                0         \n",
      "_________________________________________________________________\n",
      "dense_178 (Dense)            (None, 32)                2080      \n",
      "_________________________________________________________________\n",
      "activation_178 (Activation)  (None, 32)                0         \n",
      "_________________________________________________________________\n",
      "dense_179 (Dense)            (None, 32)                1056      \n",
      "_________________________________________________________________\n",
      "activation_179 (Activation)  (None, 32)                0         \n",
      "_________________________________________________________________\n",
      "dense_180 (Dense)            (None, 32)                1056      \n",
      "_________________________________________________________________\n",
      "activation_180 (Activation)  (None, 32)                0         \n",
      "_________________________________________________________________\n",
      "dense_181 (Dense)            (None, 32)                1056      \n",
      "_________________________________________________________________\n",
      "activation_181 (Activation)  (None, 32)                0         \n",
      "_________________________________________________________________\n",
      "dense_182 (Dense)            (None, 32)                1056      \n",
      "_________________________________________________________________\n",
      "activation_182 (Activation)  (None, 32)                0         \n",
      "_________________________________________________________________\n",
      "dense_183 (Dense)            (None, 6)                 198       \n",
      "_________________________________________________________________\n",
      "activation_183 (Activation)  (None, 6)                 0         \n",
      "=================================================================\n",
      "Total params: 42,470\n",
      "Trainable params: 42,470\n",
      "Non-trainable params: 0\n",
      "_________________________________________________________________\n"
     ]
    }
   ],
   "source": [
    "#Create neural net\n",
    "model = None\n",
    "model = Sequential()\n",
    "\n",
    "model.add(Dense(units=64, input_shape=(561,)))\n",
    "model.add(Activation('relu'))\n",
    "model.add(Dense(units=32))\n",
    "model.add(Activation('tanh'))\n",
    "model.add(Dense(units=32))\n",
    "model.add(Activation('relu'))\n",
    "model.add(Dense(units=32))\n",
    "model.add(Activation('tanh'))\n",
    "model.add(Dense(units=32))\n",
    "model.add(Activation('relu'))\n",
    "model.add(Dense(units=32))\n",
    "model.add(Activation('tanh'))\n",
    "model.add(Dense(units=6))\n",
    "model.add(Activation('softmax'))\n",
    "model.summary()\n",
    "\n",
    "# model2 = Sequential()\n",
    "\n",
    "# model2.add(Dense(units=64, input_shape=(561,)))\n",
    "# model2.add(Activation('relu'))\n",
    "# model2.add(Dense(units=64))\n",
    "# model2.add(Activation('softmax'))\n",
    "# model2.add(Dense(units=6))\n",
    "# model2.add(Activation('relu'))\n",
    "# model2.add(Dense(units=6))\n",
    "# model2.add(Activation('softmax'))\n",
    "# model2.add(Dense(units=6))\n",
    "# model2.add(Activation('tanh'))\n",
    "# model2.summary()\n",
    "\n"
   ]
  },
  {
   "cell_type": "code",
   "execution_count": 87,
   "metadata": {
    "collapsed": false
   },
   "outputs": [
    {
     "name": "stdout",
     "output_type": "stream",
     "text": [
      "Epoch 1/25\n",
      "7352/7352 [==============================] - 1s - loss: 1.3838 - acc: 0.4512     \n",
      "Epoch 2/25\n",
      "7352/7352 [==============================] - 1s - loss: 0.7983 - acc: 0.7477     \n",
      "Epoch 3/25\n",
      "7352/7352 [==============================] - 1s - loss: 0.5426 - acc: 0.8440     \n",
      "Epoch 4/25\n",
      "7352/7352 [==============================] - 1s - loss: 0.3641 - acc: 0.8860     \n",
      "Epoch 5/25\n",
      "7352/7352 [==============================] - 0s - loss: 0.2839 - acc: 0.9004     \n",
      "Epoch 6/25\n",
      "7352/7352 [==============================] - 0s - loss: 0.2632 - acc: 0.9047     \n",
      "Epoch 7/25\n",
      "7352/7352 [==============================] - 0s - loss: 0.1949 - acc: 0.9287     \n",
      "Epoch 8/25\n",
      "7352/7352 [==============================] - 0s - loss: 0.1861 - acc: 0.9317     \n",
      "Epoch 9/25\n",
      "7352/7352 [==============================] - 0s - loss: 0.1699 - acc: 0.9359     \n",
      "Epoch 10/25\n",
      "7352/7352 [==============================] - 0s - loss: 0.1547 - acc: 0.9406     \n",
      "Epoch 11/25\n",
      "7352/7352 [==============================] - 1s - loss: 0.1370 - acc: 0.9498     \n",
      "Epoch 12/25\n",
      "7352/7352 [==============================] - 1s - loss: 0.1339 - acc: 0.9487     \n",
      "Epoch 13/25\n",
      "7352/7352 [==============================] - 1s - loss: 0.1594 - acc: 0.9416     \n",
      "Epoch 14/25\n",
      "7352/7352 [==============================] - 0s - loss: 0.1215 - acc: 0.9551     \n",
      "Epoch 15/25\n",
      "7352/7352 [==============================] - 0s - loss: 0.1177 - acc: 0.9542     \n",
      "Epoch 16/25\n",
      "7352/7352 [==============================] - 0s - loss: 0.1065 - acc: 0.9580     \n",
      "Epoch 17/25\n",
      "7352/7352 [==============================] - 0s - loss: 0.1099 - acc: 0.9592     \n",
      "Epoch 18/25\n",
      "7352/7352 [==============================] - 0s - loss: 0.0948 - acc: 0.9650     \n",
      "Epoch 19/25\n",
      "7352/7352 [==============================] - 0s - loss: 0.0937 - acc: 0.9663     \n",
      "Epoch 20/25\n",
      "7352/7352 [==============================] - 0s - loss: 0.0929 - acc: 0.9661     \n",
      "Epoch 21/25\n",
      "7352/7352 [==============================] - 0s - loss: 0.0868 - acc: 0.9672     \n",
      "Epoch 22/25\n",
      "7352/7352 [==============================] - 0s - loss: 0.0896 - acc: 0.9667     \n",
      "Epoch 23/25\n",
      "7352/7352 [==============================] - 0s - loss: 0.0784 - acc: 0.9701     \n",
      "Epoch 24/25\n",
      "7352/7352 [==============================] - 0s - loss: 0.0853 - acc: 0.9663     \n",
      "Epoch 25/25\n",
      "7352/7352 [==============================] - 0s - loss: 0.0818 - acc: 0.9687     \n"
     ]
    },
    {
     "data": {
      "text/plain": [
       "<keras.callbacks.History at 0x13d4c09e8>"
      ]
     },
     "execution_count": 87,
     "metadata": {},
     "output_type": "execute_result"
    }
   ],
   "source": [
    "model.compile(loss='categorical_crossentropy', optimizer='SGD', metrics=['accuracy'])\n",
    "model.fit(features_train, labels_train, epochs=25, batch_size=32)\n",
    "\n",
    "# model2.compile(loss='categorical_crossentropy', optimizer='sgd', metrics=['accuracy'])\n",
    "# model2.fit(features_train, labels_train, epochs=100, batch_size=32)\n"
   ]
  },
  {
   "cell_type": "code",
   "execution_count": 85,
   "metadata": {
    "collapsed": false
   },
   "outputs": [
    {
     "name": "stdout",
     "output_type": "stream",
     "text": [
      "2784/2947 [===========================>..] - ETA: 0smodel 1 \n",
      "acc: 92.43%\n"
     ]
    }
   ],
   "source": [
    "scores = model.evaluate(features_test, labels_test)\n",
    "print(\"model 1 \\n%s: %.2f%%\" % (model.metrics_names[1], scores[1]*100))\n",
    "\n",
    "# scores = model2.evaluate(features_test, labels_test)\n",
    "# print(\"model 2 \\n%s: %.2f%%\" % (model.metrics_names[1], scores[1]*100))"
   ]
  },
  {
   "cell_type": "code",
   "execution_count": null,
   "metadata": {
    "collapsed": true
   },
   "outputs": [],
   "source": []
  }
 ],
 "metadata": {
  "anaconda-cloud": {},
  "kernelspec": {
   "display_name": "Python [default]",
   "language": "python",
   "name": "python3"
  },
  "language_info": {
   "codemirror_mode": {
    "name": "ipython",
    "version": 3
   },
   "file_extension": ".py",
   "mimetype": "text/x-python",
   "name": "python",
   "nbconvert_exporter": "python",
   "pygments_lexer": "ipython3",
   "version": "3.5.2"
  }
 },
 "nbformat": 4,
 "nbformat_minor": 1
}
