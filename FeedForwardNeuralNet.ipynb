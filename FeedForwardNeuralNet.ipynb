{
 "cells": [
  {
   "cell_type": "markdown",
   "metadata": {},
   "source": [
    "# Life of a Data Scientist: Human Activity"
   ]
  },
  {
   "cell_type": "markdown",
   "metadata": {},
   "source": [
    "Data Set: Human Actiity Recognition With Smartphones\n",
    "The Human Activity Recognition database was built from the recordings of 30 study participants performing activities of daily living (ADL) while carrying a waist-mounted smartphone with-mounted smartphone with embedded inertial sensors."
   ]
  },
  {
   "cell_type": "code",
   "execution_count": 37,
   "metadata": {
    "collapsed": false
   },
   "outputs": [],
   "source": [
    "#IMPORTS\n",
    "import pandas as pd\n",
    "import numpy as np\n",
    "import keras\n",
    "from keras.models import Sequential\n",
    "from keras.layers import Dense, Activation"
   ]
  },
  {
   "cell_type": "code",
   "execution_count": 38,
   "metadata": {
    "collapsed": true
   },
   "outputs": [],
   "source": [
    "#Reading Data\n",
    "train = pd.read_csv(\"train.csv\")\n",
    "test = pd.read_csv(\"test.csv\")"
   ]
  },
  {
   "cell_type": "code",
   "execution_count": 39,
   "metadata": {
    "collapsed": true
   },
   "outputs": [],
   "source": [
    "#Splitting up features and labels\n",
    "labels_train = train.ix[:, 562]\n",
    "features_train = train.ix[:,:561]\n",
    "labels_test = test.ix[:, 562]\n",
    "features_test = test.ix[:,:561]"
   ]
  },
  {
   "cell_type": "code",
   "execution_count": 40,
   "metadata": {
    "collapsed": true
   },
   "outputs": [],
   "source": [
    "# Makes categorical labels into numbers 1-6\n",
    "def encode(df):\n",
    "    dummies = pd.get_dummies(df, drop_first=False)\n",
    "    d = np.array([])\n",
    "    for i in range(len(dummies)):\n",
    "        d = np.append(d, dummies.values[i].argmax())\n",
    "    return d\n"
   ]
  },
  {
   "cell_type": "code",
   "execution_count": 41,
   "metadata": {
    "collapsed": false
   },
   "outputs": [],
   "source": [
    "#Encode labels\n",
    "labels_train = encode(labels_train)\n",
    "labels_test = encode(labels_test)\n",
    "\n",
    "labels_train = pd.get_dummies(labels_train)\n",
    "labels_test = pd.get_dummies(labels_test)\n",
    "\n",
    "randomize = np.arange(labels_train.shape[0])\n",
    "np.random.shuffle(randomize)\n",
    "labels_train = labels_train.iloc[randomize]\n",
    "features_train = features_train.iloc[randomize]\n",
    "\n",
    "randomize = np.arange(labels_test.shape[0])\n",
    "np.random.shuffle(randomize)\n",
    "labels_test = labels_test.iloc[randomize]\n",
    "features_test = features_test.iloc[randomize]"
   ]
  },
  {
   "cell_type": "code",
   "execution_count": 47,
   "metadata": {
    "collapsed": false
   },
   "outputs": [],
   "source": [
    "labels_train = np.asmatrix(labels_train)\n",
    "features_train = np.asmatrix(features_train)\n",
    "\n",
    "labels_test = np.asmatrix(labels_test)\n",
    "features_test = np.asmatrix(features_test)\n"
   ]
  },
  {
   "cell_type": "code",
   "execution_count": 48,
   "metadata": {
    "collapsed": false,
    "scrolled": true
   },
   "outputs": [
    {
     "name": "stdout",
     "output_type": "stream",
     "text": [
      "(7352, 6)\n",
      "(7352, 561)\n"
     ]
    }
   ],
   "source": [
    "print(labels_train.shape)\n",
    "print(features_train.shape)"
   ]
  },
  {
   "cell_type": "code",
   "execution_count": 49,
   "metadata": {
    "collapsed": false
   },
   "outputs": [
    {
     "data": {
      "text/plain": [
       "matrix([[ 0.,  0.,  0.,  0.,  1.,  0.],\n",
       "        [ 0.,  0.,  1.,  0.,  0.,  0.],\n",
       "        [ 0.,  0.,  1.,  0.,  0.,  0.],\n",
       "        ..., \n",
       "        [ 0.,  0.,  0.,  0.,  1.,  0.],\n",
       "        [ 0.,  0.,  0.,  0.,  1.,  0.],\n",
       "        [ 0.,  1.,  0.,  0.,  0.,  0.]])"
      ]
     },
     "execution_count": 49,
     "metadata": {},
     "output_type": "execute_result"
    }
   ],
   "source": [
    "labels_train"
   ]
  },
  {
   "cell_type": "code",
   "execution_count": 157,
   "metadata": {
    "collapsed": false
   },
   "outputs": [
    {
     "name": "stdout",
     "output_type": "stream",
     "text": [
      "_________________________________________________________________\n",
      "Layer (type)                 Output Shape              Param #   \n",
      "=================================================================\n",
      "dense_239 (Dense)            (None, 64)                35968     \n",
      "_________________________________________________________________\n",
      "activation_238 (Activation)  (None, 64)                0         \n",
      "_________________________________________________________________\n",
      "dense_240 (Dense)            (None, 64)                4160      \n",
      "_________________________________________________________________\n",
      "activation_239 (Activation)  (None, 64)                0         \n",
      "_________________________________________________________________\n",
      "dense_241 (Dense)            (None, 64)                4160      \n",
      "_________________________________________________________________\n",
      "activation_240 (Activation)  (None, 64)                0         \n",
      "_________________________________________________________________\n",
      "dense_242 (Dense)            (None, 64)                4160      \n",
      "_________________________________________________________________\n",
      "activation_241 (Activation)  (None, 64)                0         \n",
      "_________________________________________________________________\n",
      "dense_243 (Dense)            (None, 64)                4160      \n",
      "_________________________________________________________________\n",
      "activation_242 (Activation)  (None, 64)                0         \n",
      "_________________________________________________________________\n",
      "dense_244 (Dense)            (None, 64)                4160      \n",
      "_________________________________________________________________\n",
      "activation_243 (Activation)  (None, 64)                0         \n",
      "_________________________________________________________________\n",
      "dense_245 (Dense)            (None, 6)                 390       \n",
      "_________________________________________________________________\n",
      "activation_244 (Activation)  (None, 6)                 0         \n",
      "=================================================================\n",
      "Total params: 57,158\n",
      "Trainable params: 57,158\n",
      "Non-trainable params: 0\n",
      "_________________________________________________________________\n"
     ]
    }
   ],
   "source": [
    "#Create neural net\n",
    "model = None\n",
    "model = Sequential()\n",
    "\n",
    "model.add(Dense(units=64, input_shape=(561,)))\n",
    "model.add(Activation('relu'))\n",
    "model.add(Dense(units=64))\n",
    "model.add(Activation('tanh'))\n",
    "model.add(Dense(units=64))\n",
    "model.add(Activation('relu'))\n",
    "model.add(Dense(units=64))\n",
    "model.add(Activation('tanh'))\n",
    "model.add(Dense(units=64))\n",
    "model.add(Activation('relu'))\n",
    "model.add(Dense(units=64))\n",
    "model.add(Activation('tanh'))\n",
    "model.add(Dense(units=6))\n",
    "model.add(Activation('softmax'))\n",
    "model.summary()\n",
    "\n",
    "# model2 = Sequential()\n",
    "\n",
    "# model2.add(Dense(units=64, input_shape=(561,)))\n",
    "# model2.add(Activation('relu'))\n",
    "# model2.add(Dense(units=64))\n",
    "# model2.add(Activation('softmax'))\n",
    "# model2.add(Dense(units=6))\n",
    "# model2.add(Activation('relu'))\n",
    "# model2.add(Dense(units=6))\n",
    "# model2.add(Activation('softmax'))\n",
    "# model2.add(Dense(units=6))\n",
    "# model2.add(Activation('tanh'))\n",
    "# model2.summary()\n",
    "\n"
   ]
  },
  {
   "cell_type": "code",
   "execution_count": 158,
   "metadata": {
    "collapsed": false
   },
   "outputs": [
    {
     "name": "stdout",
     "output_type": "stream",
     "text": [
      "Epoch 1/50\n",
      "7352/7352 [==============================] - 2s - loss: 1.1525 - acc: 0.5566     \n",
      "Epoch 2/50\n",
      "7352/7352 [==============================] - 1s - loss: 0.6252 - acc: 0.7933     \n",
      "Epoch 3/50\n",
      "7352/7352 [==============================] - 1s - loss: 0.4008 - acc: 0.8603     \n",
      "Epoch 4/50\n",
      "7352/7352 [==============================] - 1s - loss: 0.3021 - acc: 0.8819     \n",
      "Epoch 5/50\n",
      "7352/7352 [==============================] - 2s - loss: 0.2420 - acc: 0.9064     \n",
      "Epoch 6/50\n",
      "7352/7352 [==============================] - 1s - loss: 0.2106 - acc: 0.9166     \n",
      "Epoch 7/50\n",
      "7352/7352 [==============================] - 1s - loss: 0.1953 - acc: 0.9222     \n",
      "Epoch 8/50\n",
      "7352/7352 [==============================] - 1s - loss: 0.1740 - acc: 0.9343     \n",
      "Epoch 9/50\n",
      "7352/7352 [==============================] - 1s - loss: 0.1577 - acc: 0.9329     \n",
      "Epoch 10/50\n",
      "7352/7352 [==============================] - 1s - loss: 0.1425 - acc: 0.9445     \n",
      "Epoch 11/50\n",
      "7352/7352 [==============================] - 1s - loss: 0.1503 - acc: 0.9382     \n",
      "Epoch 12/50\n",
      "7352/7352 [==============================] - 1s - loss: 0.1276 - acc: 0.9502     \n",
      "Epoch 13/50\n",
      "7352/7352 [==============================] - 1s - loss: 0.1141 - acc: 0.9559     \n",
      "Epoch 14/50\n",
      "7352/7352 [==============================] - 1s - loss: 0.1098 - acc: 0.9524     \n",
      "Epoch 15/50\n",
      "7352/7352 [==============================] - 1s - loss: 0.1086 - acc: 0.9567     \n",
      "Epoch 16/50\n",
      "7352/7352 [==============================] - 1s - loss: 0.0979 - acc: 0.9640     \n",
      "Epoch 17/50\n",
      "7352/7352 [==============================] - 1s - loss: 0.1004 - acc: 0.9596     \n",
      "Epoch 18/50\n",
      "7352/7352 [==============================] - 1s - loss: 0.0992 - acc: 0.9626     \n",
      "Epoch 19/50\n",
      "7352/7352 [==============================] - 1s - loss: 0.0905 - acc: 0.9645     \n",
      "Epoch 20/50\n",
      "7352/7352 [==============================] - 1s - loss: 0.0825 - acc: 0.9695     \n",
      "Epoch 21/50\n",
      "7352/7352 [==============================] - 1s - loss: 0.0870 - acc: 0.9660     \n",
      "Epoch 22/50\n",
      "7352/7352 [==============================] - 1s - loss: 0.0828 - acc: 0.9683     \n",
      "Epoch 23/50\n",
      "7352/7352 [==============================] - 1s - loss: 0.0775 - acc: 0.9698     \n",
      "Epoch 24/50\n",
      "7352/7352 [==============================] - 1s - loss: 0.0741 - acc: 0.9717     \n",
      "Epoch 25/50\n",
      "7352/7352 [==============================] - 1s - loss: 0.0809 - acc: 0.9676     \n",
      "Epoch 26/50\n",
      "7352/7352 [==============================] - 1s - loss: 0.0759 - acc: 0.9705     \n",
      "Epoch 27/50\n",
      "7352/7352 [==============================] - 1s - loss: 0.0699 - acc: 0.9725     \n",
      "Epoch 28/50\n",
      "7352/7352 [==============================] - 1s - loss: 0.0667 - acc: 0.9751     \n",
      "Epoch 29/50\n",
      "7352/7352 [==============================] - 1s - loss: 0.0705 - acc: 0.9731     \n",
      "Epoch 30/50\n",
      "7352/7352 [==============================] - 1s - loss: 0.0624 - acc: 0.9752     \n",
      "Epoch 31/50\n",
      "7352/7352 [==============================] - 1s - loss: 0.0678 - acc: 0.9735     \n",
      "Epoch 32/50\n",
      "7352/7352 [==============================] - 1s - loss: 0.0612 - acc: 0.9765     \n",
      "Epoch 33/50\n",
      "7352/7352 [==============================] - 1s - loss: 0.0676 - acc: 0.9742     \n",
      "Epoch 34/50\n",
      "7352/7352 [==============================] - 1s - loss: 0.0535 - acc: 0.9789     \n",
      "Epoch 35/50\n",
      "7352/7352 [==============================] - 1s - loss: 0.0636 - acc: 0.9769     \n",
      "Epoch 36/50\n",
      "7352/7352 [==============================] - 1s - loss: 0.0599 - acc: 0.9773     \n",
      "Epoch 37/50\n",
      "7352/7352 [==============================] - 1s - loss: 0.0608 - acc: 0.9766     \n",
      "Epoch 38/50\n",
      "7352/7352 [==============================] - 1s - loss: 0.0568 - acc: 0.9796     \n",
      "Epoch 39/50\n",
      "7352/7352 [==============================] - 1s - loss: 0.0557 - acc: 0.9785     \n",
      "Epoch 40/50\n",
      "7352/7352 [==============================] - 1s - loss: 0.0604 - acc: 0.9766     \n",
      "Epoch 41/50\n",
      "7352/7352 [==============================] - 1s - loss: 0.0538 - acc: 0.9799     \n",
      "Epoch 42/50\n",
      "7352/7352 [==============================] - 1s - loss: 0.0495 - acc: 0.9815     \n",
      "Epoch 43/50\n",
      "7352/7352 [==============================] - 1s - loss: 0.0574 - acc: 0.9782     \n",
      "Epoch 44/50\n",
      "7352/7352 [==============================] - 2s - loss: 0.0503 - acc: 0.9818     \n",
      "Epoch 45/50\n",
      "7352/7352 [==============================] - 1s - loss: 0.0514 - acc: 0.9800     \n",
      "Epoch 46/50\n",
      "7352/7352 [==============================] - 1s - loss: 0.0537 - acc: 0.9807     \n",
      "Epoch 47/50\n",
      "7352/7352 [==============================] - 1s - loss: 0.0508 - acc: 0.9800     \n",
      "Epoch 48/50\n",
      "7352/7352 [==============================] - 1s - loss: 0.0508 - acc: 0.9808     \n",
      "Epoch 49/50\n",
      "7352/7352 [==============================] - 1s - loss: 0.0547 - acc: 0.9788     \n",
      "Epoch 50/50\n",
      "7352/7352 [==============================] - 1s - loss: 0.0507 - acc: 0.9822     \n"
     ]
    },
    {
     "data": {
      "text/plain": [
       "<keras.callbacks.History at 0x13ef08dd8>"
      ]
     },
     "execution_count": 158,
     "metadata": {},
     "output_type": "execute_result"
    }
   ],
   "source": [
    "model.compile(loss='categorical_crossentropy', optimizer='sgd', metrics=['accuracy'])\n",
    "model.fit(features_train, labels_train, epochs=50, batch_size=32)\n",
    "\n",
    "# model2.compile(loss='categorical_crossentropy', optimizer='sgd', metrics=['accuracy'])\n",
    "# model2.fit(features_train, labels_train, epochs=100, batch_size=32)\n"
   ]
  },
  {
   "cell_type": "code",
   "execution_count": 159,
   "metadata": {
    "collapsed": false
   },
   "outputs": [
    {
     "name": "stdout",
     "output_type": "stream",
     "text": [
      "2592/2947 [=========================>....] - ETA: 0smodel 1 \n",
      "acc: 95.66%\n"
     ]
    }
   ],
   "source": [
    "scores = model.evaluate(features_test, labels_test)\n",
    "print(\"model 1 \\n%s: %.2f%%\" % (model.metrics_names[1], scores[1]*100))\n",
    "\n",
    "# scores = model2.evaluate(features_test, labels_test)\n",
    "# print(\"model 2 \\n%s: %.2f%%\" % (model.metrics_names[1], scores[1]*100))"
   ]
  },
  {
   "cell_type": "code",
   "execution_count": null,
   "metadata": {
    "collapsed": true
   },
   "outputs": [],
   "source": []
  }
 ],
 "metadata": {
  "anaconda-cloud": {},
  "kernelspec": {
   "display_name": "Python [default]",
   "language": "python",
   "name": "python3"
  },
  "language_info": {
   "codemirror_mode": {
    "name": "ipython",
    "version": 3
   },
   "file_extension": ".py",
   "mimetype": "text/x-python",
   "name": "python",
   "nbconvert_exporter": "python",
   "pygments_lexer": "ipython3",
   "version": "3.5.2"
  }
 },
 "nbformat": 4,
 "nbformat_minor": 1
}
