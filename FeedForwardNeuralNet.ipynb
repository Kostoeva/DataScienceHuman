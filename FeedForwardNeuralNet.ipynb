{
 "cells": [
  {
   "cell_type": "markdown",
   "metadata": {},
   "source": [
    "# Life of a Data Scientist: Human Activity"
   ]
  },
  {
   "cell_type": "markdown",
   "metadata": {},
   "source": [
    "Data Set: Human Actiity Recognition With Smartphones\n",
    "The Human Activity Recognition database was built from the recordings of 30 study participants performing activities of daily living (ADL) while carrying a waist-mounted smartphone with-mounted smartphone with embedded inertial sensors."
   ]
  },
  {
   "cell_type": "code",
   "execution_count": 15,
   "metadata": {
    "collapsed": false
   },
   "outputs": [],
   "source": [
    "#IMPORTS\n",
    "import pandas as pd\n",
    "import numpy as np\n",
    "import keras\n",
    "from keras.models import Sequential\n",
    "from keras.layers import Dense, Activation"
   ]
  },
  {
   "cell_type": "code",
   "execution_count": 96,
   "metadata": {
    "collapsed": true
   },
   "outputs": [],
   "source": [
    "#Reading Data\n",
    "train = pd.read_csv(\"train.csv\")\n",
    "test = pd.read_csv(\"test.csv\")"
   ]
  },
  {
   "cell_type": "code",
   "execution_count": 97,
   "metadata": {
    "collapsed": true
   },
   "outputs": [],
   "source": [
    "#Splitting up features and labels\n",
    "labels_train = train.ix[:, 562]\n",
    "features_train = train.ix[:,:561]\n",
    "labels_test = test.ix[:, 562]\n",
    "features_test = test.ix[:,:561]"
   ]
  },
  {
   "cell_type": "code",
   "execution_count": 98,
   "metadata": {
    "collapsed": true
   },
   "outputs": [],
   "source": [
    "# Makes categorical labels into numbers 1-6\n",
    "def encode(df):\n",
    "    dummies = pd.get_dummies(df, drop_first=False)\n",
    "    d = np.array([])\n",
    "    for i in range(len(dummies)):\n",
    "        d = np.append(d, dummies.values[i].argmax())\n",
    "    return d\n"
   ]
  },
  {
   "cell_type": "code",
   "execution_count": 99,
   "metadata": {
    "collapsed": false
   },
   "outputs": [
    {
     "name": "stdout",
     "output_type": "stream",
     "text": [
      "shuffled [4861 3965 4774 ..., 3054 4773 7031]\n"
     ]
    }
   ],
   "source": [
    "#Encode labels\n",
    "labels_train = encode(labels_train)\n",
    "labels_test = encode(labels_test)\n",
    "\n",
    "labels_train = pd.get_dummies(labels_train)\n",
    "labels_test = pd.get_dummies(labels_test)\n",
    "\n",
    "randomize = np.arange(labels_train.shape[0])\n",
    "np.random.shuffle(randomize)\n",
    "print(\"shuffled\", randomize)\n",
    "labels_train = labels_train.iloc[randomize]\n",
    "features_train = features_train.iloc[randomize]"
   ]
  },
  {
   "cell_type": "code",
   "execution_count": 100,
   "metadata": {
    "collapsed": false
   },
   "outputs": [],
   "source": [
    "labels_train = labels_train.as_matrix()\n",
    "features_train = features_train.as_matrix()\n"
   ]
  },
  {
   "cell_type": "code",
   "execution_count": 104,
   "metadata": {
    "collapsed": false,
    "scrolled": true
   },
   "outputs": [
    {
     "name": "stdout",
     "output_type": "stream",
     "text": [
      "(7352, 6)\n",
      "(7352, 561)\n"
     ]
    }
   ],
   "source": [
    "print(labels_train.shape)\n",
    "print(features_train.shape)"
   ]
  },
  {
   "cell_type": "code",
   "execution_count": 101,
   "metadata": {
    "collapsed": false
   },
   "outputs": [
    {
     "data": {
      "text/plain": [
       "array([[ 0.,  0.,  0.,  0.,  0.,  1.],\n",
       "       [ 0.,  0.,  1.,  0.,  0.,  0.],\n",
       "       [ 1.,  0.,  0.,  0.,  0.,  0.],\n",
       "       ..., \n",
       "       [ 0.,  0.,  1.,  0.,  0.,  0.],\n",
       "       [ 1.,  0.,  0.,  0.,  0.,  0.],\n",
       "       [ 1.,  0.,  0.,  0.,  0.,  0.]])"
      ]
     },
     "execution_count": 101,
     "metadata": {},
     "output_type": "execute_result"
    }
   ],
   "source": [
    "labels_train"
   ]
  },
  {
   "cell_type": "code",
   "execution_count": 102,
   "metadata": {
    "collapsed": false
   },
   "outputs": [
    {
     "name": "stdout",
     "output_type": "stream",
     "text": [
      "_________________________________________________________________\n",
      "Layer (type)                 Output Shape              Param #   \n",
      "=================================================================\n",
      "dense_45 (Dense)             (None, 64)                35968     \n",
      "_________________________________________________________________\n",
      "activation_37 (Activation)   (None, 64)                0         \n",
      "_________________________________________________________________\n",
      "dense_46 (Dense)             (None, 6)                 390       \n",
      "_________________________________________________________________\n",
      "activation_38 (Activation)   (None, 6)                 0         \n",
      "=================================================================\n",
      "Total params: 36,358\n",
      "Trainable params: 36,358\n",
      "Non-trainable params: 0\n",
      "_________________________________________________________________\n"
     ]
    }
   ],
   "source": [
    "# Create neural net\n",
    "model = Sequential()\n",
    "\n",
    "model.add(Dense(units=64, input_shape=(561,)))\n",
    "model.add(Activation('relu'))\n",
    "model.add(Dense(units=6))\n",
    "model.add(Activation('softmax'))\n",
    "model.summary()\n",
    "\n"
   ]
  },
  {
   "cell_type": "code",
   "execution_count": 105,
   "metadata": {
    "collapsed": false
   },
   "outputs": [
    {
     "name": "stdout",
     "output_type": "stream",
     "text": [
      "Epoch 1/20\n",
      "7352/7352 [==============================] - 1s - loss: 0.2296 - acc: 0.9212     \n",
      "Epoch 2/20\n",
      "7352/7352 [==============================] - 1s - loss: 0.2120 - acc: 0.9294     \n",
      "Epoch 3/20\n",
      "7352/7352 [==============================] - 1s - loss: 0.1901 - acc: 0.9347     \n",
      "Epoch 4/20\n",
      "7352/7352 [==============================] - 1s - loss: 0.1798 - acc: 0.9392     \n",
      "Epoch 5/20\n",
      "7352/7352 [==============================] - 1s - loss: 0.1660 - acc: 0.9416     \n",
      "Epoch 6/20\n",
      "7352/7352 [==============================] - 1s - loss: 0.1607 - acc: 0.9455     \n",
      "Epoch 7/20\n",
      "7352/7352 [==============================] - 1s - loss: 0.1479 - acc: 0.9513     \n",
      "Epoch 8/20\n",
      "7352/7352 [==============================] - 1s - loss: 0.1399 - acc: 0.9527     \n",
      "Epoch 9/20\n",
      "7352/7352 [==============================] - 1s - loss: 0.1348 - acc: 0.9531     \n",
      "Epoch 10/20\n",
      "7352/7352 [==============================] - 1s - loss: 0.1261 - acc: 0.9580     \n",
      "Epoch 11/20\n",
      "7352/7352 [==============================] - 1s - loss: 0.1192 - acc: 0.9603     \n",
      "Epoch 12/20\n",
      "7352/7352 [==============================] - 1s - loss: 0.1188 - acc: 0.9615     \n",
      "Epoch 13/20\n",
      "7352/7352 [==============================] - 1s - loss: 0.1116 - acc: 0.9625     \n",
      "Epoch 14/20\n",
      "7352/7352 [==============================] - 1s - loss: 0.1055 - acc: 0.9671     \n",
      "Epoch 15/20\n",
      "7352/7352 [==============================] - 1s - loss: 0.1035 - acc: 0.9683     \n",
      "Epoch 16/20\n",
      "7352/7352 [==============================] - 1s - loss: 0.1011 - acc: 0.9683     \n",
      "Epoch 17/20\n",
      "7352/7352 [==============================] - 1s - loss: 0.0965 - acc: 0.9672     \n",
      "Epoch 18/20\n",
      "7352/7352 [==============================] - 1s - loss: 0.0934 - acc: 0.9686     \n",
      "Epoch 19/20\n",
      "7352/7352 [==============================] - 1s - loss: 0.0939 - acc: 0.9706     \n",
      "Epoch 20/20\n",
      "7352/7352 [==============================] - 1s - loss: 0.0924 - acc: 0.9690     \n"
     ]
    },
    {
     "data": {
      "text/plain": [
       "<keras.callbacks.History at 0x114cbd7f0>"
      ]
     },
     "execution_count": 105,
     "metadata": {},
     "output_type": "execute_result"
    }
   ],
   "source": [
    "model.compile(loss='categorical_crossentropy', optimizer='sgd', metrics=['accuracy'])\n",
    "\n",
    "model.fit(features_train, labels_train, epochs=20, batch_size=32)"
   ]
  },
  {
   "cell_type": "code",
   "execution_count": null,
   "metadata": {
    "collapsed": true
   },
   "outputs": [],
   "source": []
  }
 ],
 "metadata": {
  "anaconda-cloud": {},
  "kernelspec": {
   "display_name": "Python [default]",
   "language": "python",
   "name": "python3"
  },
  "language_info": {
   "codemirror_mode": {
    "name": "ipython",
    "version": 3
   },
   "file_extension": ".py",
   "mimetype": "text/x-python",
   "name": "python",
   "nbconvert_exporter": "python",
   "pygments_lexer": "ipython3",
   "version": "3.5.2"
  }
 },
 "nbformat": 4,
 "nbformat_minor": 1
}
